{
 "cells": [
  {
   "cell_type": "markdown",
   "metadata": {},
   "source": [
    "## πsun 문제 (1,2)"
   ]
  },
  {
   "cell_type": "code",
   "execution_count": 1,
   "metadata": {},
   "outputs": [],
   "source": [
    "from sklearn.tree import DecisionTreeClassifier\n",
    "from sklearn.metrics import accuracy_score\n",
    "from sklearn.model_selection import StratifiedKFold,cross_val_score,GridSearchCV,train_test_split\n",
    "from sklearn.datasets import load_breast_cancer\n",
    "import numpy as np\n",
    "import pandas as pd"
   ]
  },
  {
   "cell_type": "code",
   "execution_count": 2,
   "metadata": {},
   "outputs": [],
   "source": [
    "breast_cancer=load_breast_cancer()\n",
    "features=breast_cancer.data\n",
    "label=breast_cancer.target\n",
    "dt_clf=DecisionTreeClassifier(random_state=100)"
   ]
  },
  {
   "cell_type": "markdown",
   "metadata": {},
   "source": [
    "#### 1. 다음 데이터를 이용하여 Stratified K폴드와 cross_val_score() 값비교하기"
   ]
  },
  {
   "cell_type": "markdown",
   "metadata": {},
   "source": [
    "1-1. Stratified K폴드이용 (폴드수는 5개로 설정)"
   ]
  },
  {
   "cell_type": "code",
   "execution_count": 4,
   "metadata": {},
   "outputs": [
    {
     "name": "stdout",
     "output_type": "stream",
     "text": [
      "\n",
      "#1 교차 검증 정확도: 0.913, 학습 데이터 크기: 454, 검증 데이터 크기: 115\n",
      "#1 검증 세트 인덱스 : [  0   1   2   3   4   5   6   7   8   9  10  11  12  13  14  15  16  17\n",
      "  18  19  20  21  22  23  24  25  26  27  28  29  30  31  32  33  34  35\n",
      "  36  37  38  39  40  41  42  43  44  45  46  47  48  49  50  51  52  55\n",
      "  58  59  60  61  63  66  67  68  69  71  74  76  79  80  81  84  88  89\n",
      "  90  92  93  96  97  98 101 102 103 104 106 107 109 110 111 112 113 114\n",
      " 115 116 120 123 124 125 128 130 133 136 137 139 140 142 143 144 145 147\n",
      " 148 149 150 151 152 153 154]\n",
      "\n",
      "#2 교차 검증 정확도: 0.913, 학습 데이터 크기: 454, 검증 데이터 크기: 115\n",
      "#2 검증 세트 인덱스 : [ 53  54  56  57  62  64  65  70  72  73  75  77  78  82  83  85  86  87\n",
      "  91  94  95  99 100 105 108 117 118 119 121 122 126 127 129 131 132 134\n",
      " 135 138 141 146 155 156 157 158 159 160 161 162 163 165 166 169 170 173\n",
      " 174 175 176 178 179 183 185 187 188 189 191 192 195 200 204 206 208 209\n",
      " 211 216 217 220 221 222 224 225 226 227 228 231 232 234 235 238 240 241\n",
      " 242 243 245 246 247 248 249 251 266 267 268 269 270 271 273 275 276 278\n",
      " 279 281 284 285 286 287 288]\n",
      "\n",
      "#3 교차 검증 정확도: 0.9027, 학습 데이터 크기: 456, 검증 데이터 크기: 113\n",
      "#3 검증 세트 인덱스 : [164 167 168 171 172 177 180 181 182 184 186 190 193 194 196 197 198 199\n",
      " 201 202 203 205 207 210 212 213 214 215 218 219 223 229 230 233 236 237\n",
      " 239 244 250 252 253 254 289 290 291 292 293 294 295 296 298 299 301 303\n",
      " 304 305 306 307 308 309 310 311 312 313 314 315 316 318 319 320 322 324\n",
      " 325 326 327 331 332 333 334 336 338 340 341 342 344 345 346 347 348 349\n",
      " 350 354 355 356 357 358 359 360 361 362 363 364 367 371 374 375 376 377\n",
      " 378 380 381 382 383]\n",
      "\n",
      "#4 교차 검증 정확도: 0.9292, 학습 데이터 크기: 456, 검증 데이터 크기: 113\n",
      "#4 검증 세트 인덱스 : [255 256 257 258 259 260 261 262 263 264 265 272 274 277 280 282 283 297\n",
      " 300 302 317 321 323 328 329 330 335 337 339 343 351 352 353 365 366 368\n",
      " 369 370 372 373 379 384 385 386 387 388 390 391 394 395 396 397 398 399\n",
      " 401 402 403 404 405 406 407 409 410 411 412 413 415 416 418 419 420 421\n",
      " 422 423 424 425 426 427 428 429 431 434 436 437 438 439 440 442 443 445\n",
      " 447 448 450 452 453 454 455 456 457 458 459 462 463 464 465 466 467 469\n",
      " 470 471 472 473 474]\n",
      "\n",
      "#5 교차 검증 정확도: 0.9115, 학습 데이터 크기: 456, 검증 데이터 크기: 113\n",
      "#5 검증 세트 인덱스 : [389 392 393 400 408 414 417 430 432 433 435 441 444 446 449 451 460 461\n",
      " 468 475 476 477 478 479 480 481 482 483 484 485 486 487 488 489 490 491\n",
      " 492 493 494 495 496 497 498 499 500 501 502 503 504 505 506 507 508 509\n",
      " 510 511 512 513 514 515 516 517 518 519 520 521 522 523 524 525 526 527\n",
      " 528 529 530 531 532 533 534 535 536 537 538 539 540 541 542 543 544 545\n",
      " 546 547 548 549 550 551 552 553 554 555 556 557 558 559 560 561 562 563\n",
      " 564 565 566 567 568]\n",
      "\n",
      "## 교차 검증별 정확도: [0.913  0.913  0.9027 0.9292 0.9115]\n",
      "## 평균 검증 정확도: 0.91388\n"
     ]
    }
   ],
   "source": [
    "skfold=StratifiedKFold(n_splits=5)\n",
    "n_iter=0\n",
    "cv_accuracy=[]\n",
    "\n",
    "for train_index, test_index in skfold.split(features, label):\n",
    "    X_train, X_test=features[train_index], features[test_index]\n",
    "    y_train, y_test=label[train_index], label[test_index]\n",
    "    dt_clf.fit(X_train, y_train)\n",
    "    pred=dt_clf.predict(X_test)\n",
    "    \n",
    "    n_iter+=1\n",
    "    accuracy=np.round(accuracy_score(y_test, pred),4)\n",
    "    train_size=X_train.shape[0]\n",
    "    test_size=X_test.shape[0]\n",
    "    print('\\n#{0} 교차 검증 정확도: {1}, 학습 데이터 크기: {2}, 검증 데이터 크기: {3}'.format(n_iter, accuracy, train_size, test_size))\n",
    "    print('#{0} 검증 세트 인덱스 : {1}'.format(n_iter, test_index))\n",
    "    cv_accuracy.append(accuracy)\n",
    "    \n",
    "print('\\n## 교차 검증별 정확도:', np.round(cv_accuracy,4))\n",
    "print('## 평균 검증 정확도:', np.mean(cv_accuracy))\n"
   ]
  },
  {
   "cell_type": "markdown",
   "metadata": {},
   "source": [
    "1-2. cross_val_score()이용\n",
    "(폴드수는 5개로 설정)"
   ]
  },
  {
   "cell_type": "code",
   "execution_count": 11,
   "metadata": {},
   "outputs": [
    {
     "name": "stdout",
     "output_type": "stream",
     "text": [
      "\n",
      "## 교차 검증별 정확도: [0.913  0.913  0.9027 0.9292 0.9115]\n",
      "## 평균 검증 정확도: 0.91389\n"
     ]
    }
   ],
   "source": [
    "data=breast_cancer.data\n",
    "label=breast_cancer.target\n",
    "\n",
    "scores=cross_val_score(dt_clf, data, label, scoring='accuracy', cv=5)\n",
    "\n",
    "print('\\n## 교차 검증별 정확도:', np.round(scores,4))\n",
    "print('## 평균 검증 정확도:', np.round(np.mean(scores),5))"
   ]
  },
  {
   "cell_type": "markdown",
   "metadata": {},
   "source": [
    "#### 2. GridSearchCV를 이용하여 정확도 구하기\n",
    "(max_depth는 1,2,3,4,5/min_samples_split은 2,3,4,5/ 폴드수는 6개/TEST_SIZE는 0.1로 각각 설정)"
   ]
  },
  {
   "cell_type": "code",
   "execution_count": 14,
   "metadata": {},
   "outputs": [],
   "source": [
    "X_train, X_test, y_train, y_test=train_test_split(data, label,test_size=0.1)\n",
    "\n",
    "parameters={'max_depth':[1,2,3,4,5],'min_samples_split':[2,3,4,5]}"
   ]
  },
  {
   "cell_type": "code",
   "execution_count": 19,
   "metadata": {},
   "outputs": [
    {
     "data": {
      "text/plain": [
       "GridSearchCV(cv=6, error_score='raise-deprecating',\n",
       "             estimator=DecisionTreeClassifier(class_weight=None,\n",
       "                                              criterion='gini', max_depth=None,\n",
       "                                              max_features=None,\n",
       "                                              max_leaf_nodes=None,\n",
       "                                              min_impurity_decrease=0.0,\n",
       "                                              min_impurity_split=None,\n",
       "                                              min_samples_leaf=1,\n",
       "                                              min_samples_split=2,\n",
       "                                              min_weight_fraction_leaf=0.0,\n",
       "                                              presort=False, random_state=100,\n",
       "                                              splitter='best'),\n",
       "             iid='warn', n_jobs=None,\n",
       "             param_grid={'max_depth': [1, 2, 3, 4, 5],\n",
       "                         'min_samples_split': [2, 3, 4, 5]},\n",
       "             pre_dispatch='2*n_jobs', refit=True, return_train_score=False,\n",
       "             scoring=None, verbose=0)"
      ]
     },
     "execution_count": 19,
     "metadata": {},
     "output_type": "execute_result"
    }
   ],
   "source": [
    "grid_dt_clf=GridSearchCV(dt_clf, param_grid=parameters, cv=6, refit=True)\n",
    "\n",
    "grid_dt_clf.fit(X_train, y_train)"
   ]
  },
  {
   "cell_type": "code",
   "execution_count": 20,
   "metadata": {},
   "outputs": [
    {
     "name": "stdout",
     "output_type": "stream",
     "text": [
      "테스트 데이터 세트 정확도: 0.9123\n"
     ]
    }
   ],
   "source": [
    "estimator=grid_dt_clf.best_estimator_\n",
    "\n",
    "pred=estimator.predict(X_test)\n",
    "print('테스트 데이터 세트 정확도: {0:.4f}'.format(accuracy_score(y_test, pred)))"
   ]
  }
 ],
 "metadata": {
  "kernelspec": {
   "display_name": "Python 3",
   "language": "python",
   "name": "python3"
  },
  "language_info": {
   "codemirror_mode": {
    "name": "ipython",
    "version": 3
   },
   "file_extension": ".py",
   "mimetype": "text/x-python",
   "name": "python",
   "nbconvert_exporter": "python",
   "pygments_lexer": "ipython3",
   "version": "3.6.2"
  }
 },
 "nbformat": 4,
 "nbformat_minor": 2
}
